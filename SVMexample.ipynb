{
 "cells": [
  {
   "cell_type": "code",
   "execution_count": 1,
   "metadata": {},
   "outputs": [
    {
     "name": "stderr",
     "output_type": "stream",
     "text": [
      "<>:2: SyntaxWarning: invalid escape sequence '\\D'\n",
      "<>:2: SyntaxWarning: invalid escape sequence '\\D'\n",
      "C:\\Users\\pruth\\AppData\\Local\\Temp\\ipykernel_17524\\3112632712.py:2: SyntaxWarning: invalid escape sequence '\\D'\n",
      "  df=pd.read_csv(\"D:\\\\vs code\\\\SVM\\\\\\Dataset for svm numeric example.csv\")\n"
     ]
    },
    {
     "data": {
      "text/html": [
       "<div>\n",
       "<style scoped>\n",
       "    .dataframe tbody tr th:only-of-type {\n",
       "        vertical-align: middle;\n",
       "    }\n",
       "\n",
       "    .dataframe tbody tr th {\n",
       "        vertical-align: top;\n",
       "    }\n",
       "\n",
       "    .dataframe thead th {\n",
       "        text-align: right;\n",
       "    }\n",
       "</style>\n",
       "<table border=\"1\" class=\"dataframe\">\n",
       "  <thead>\n",
       "    <tr style=\"text-align: right;\">\n",
       "      <th></th>\n",
       "      <th>Positive Label (Pos):</th>\n",
       "      <th>Negative Label (Neg):</th>\n",
       "    </tr>\n",
       "  </thead>\n",
       "  <tbody>\n",
       "    <tr>\n",
       "      <th>0</th>\n",
       "      <td>(3, 2)</td>\n",
       "      <td>(1, 1)</td>\n",
       "    </tr>\n",
       "    <tr>\n",
       "      <th>1</th>\n",
       "      <td>(4, 1)</td>\n",
       "      <td>(2, 0)</td>\n",
       "    </tr>\n",
       "    <tr>\n",
       "      <th>2</th>\n",
       "      <td>(4, -1)</td>\n",
       "      <td>(2, 2)</td>\n",
       "    </tr>\n",
       "    <tr>\n",
       "      <th>3</th>\n",
       "      <td>(5, 2)</td>\n",
       "      <td>(-1, 1)</td>\n",
       "    </tr>\n",
       "    <tr>\n",
       "      <th>4</th>\n",
       "      <td>(5, 0)</td>\n",
       "      <td>(-1, -1)</td>\n",
       "    </tr>\n",
       "    <tr>\n",
       "      <th>5</th>\n",
       "      <td>(6, 2)</td>\n",
       "      <td>(0, 2)</td>\n",
       "    </tr>\n",
       "    <tr>\n",
       "      <th>6</th>\n",
       "      <td>(6, 0)</td>\n",
       "      <td>(0, -2)</td>\n",
       "    </tr>\n",
       "    <tr>\n",
       "      <th>7</th>\n",
       "      <td>(7, 1)</td>\n",
       "      <td>(-2, 1)</td>\n",
       "    </tr>\n",
       "    <tr>\n",
       "      <th>8</th>\n",
       "      <td>(7, -1)</td>\n",
       "      <td>(-2, -1)</td>\n",
       "    </tr>\n",
       "    <tr>\n",
       "      <th>9</th>\n",
       "      <td>(8, 2)</td>\n",
       "      <td>(-3, 0)</td>\n",
       "    </tr>\n",
       "    <tr>\n",
       "      <th>10</th>\n",
       "      <td>(8, 0)</td>\n",
       "      <td>(-3, 2)</td>\n",
       "    </tr>\n",
       "    <tr>\n",
       "      <th>11</th>\n",
       "      <td>(9, 1)</td>\n",
       "      <td>(-4, 1)</td>\n",
       "    </tr>\n",
       "    <tr>\n",
       "      <th>12</th>\n",
       "      <td>(9, -1)</td>\n",
       "      <td>(-4, -1)</td>\n",
       "    </tr>\n",
       "    <tr>\n",
       "      <th>13</th>\n",
       "      <td>(10, 2)</td>\n",
       "      <td>(-5, 0)</td>\n",
       "    </tr>\n",
       "    <tr>\n",
       "      <th>14</th>\n",
       "      <td>(10, 0)</td>\n",
       "      <td>(-5, 2)</td>\n",
       "    </tr>\n",
       "    <tr>\n",
       "      <th>15</th>\n",
       "      <td>(11, 1)</td>\n",
       "      <td>(-6, 1)</td>\n",
       "    </tr>\n",
       "    <tr>\n",
       "      <th>16</th>\n",
       "      <td>(11, -1)</td>\n",
       "      <td>(-6, -1)</td>\n",
       "    </tr>\n",
       "    <tr>\n",
       "      <th>17</th>\n",
       "      <td>(12, 2)</td>\n",
       "      <td>(-7, 0)</td>\n",
       "    </tr>\n",
       "    <tr>\n",
       "      <th>18</th>\n",
       "      <td>(12, 0)</td>\n",
       "      <td>(-7, 2)</td>\n",
       "    </tr>\n",
       "  </tbody>\n",
       "</table>\n",
       "</div>"
      ],
      "text/plain": [
       "   Positive Label (Pos): Negative Label (Neg):\n",
       "0                 (3, 2)                (1, 1)\n",
       "1                 (4, 1)                (2, 0)\n",
       "2                (4, -1)                (2, 2)\n",
       "3                 (5, 2)               (-1, 1)\n",
       "4                 (5, 0)              (-1, -1)\n",
       "5                 (6, 2)                (0, 2)\n",
       "6                 (6, 0)               (0, -2)\n",
       "7                 (7, 1)               (-2, 1)\n",
       "8                (7, -1)              (-2, -1)\n",
       "9                 (8, 2)               (-3, 0)\n",
       "10                (8, 0)               (-3, 2)\n",
       "11                (9, 1)               (-4, 1)\n",
       "12               (9, -1)              (-4, -1)\n",
       "13               (10, 2)               (-5, 0)\n",
       "14               (10, 0)               (-5, 2)\n",
       "15               (11, 1)               (-6, 1)\n",
       "16              (11, -1)              (-6, -1)\n",
       "17               (12, 2)               (-7, 0)\n",
       "18               (12, 0)               (-7, 2)"
      ]
     },
     "execution_count": 1,
     "metadata": {},
     "output_type": "execute_result"
    }
   ],
   "source": [
    "import pandas as pd \n",
    "df=pd.read_csv(\"D:\\\\vs code\\\\SVM\\\\\\Dataset for svm numeric example.csv\")\n",
    "df"
   ]
  },
  {
   "cell_type": "code",
   "execution_count": 2,
   "metadata": {},
   "outputs": [
    {
     "data": {
      "image/png": "[encoded data removed]",
      "text/plain": [
       "<Figure size 640x480 with 1 Axes>"
      ]
     },
     "metadata": {},
     "output_type": "display_data"
    }
   ],
   "source": [
    "import matplotlib.pyplot as plt\n",
    "\n",
    "# Define the data\n",
    "# data = [\n",
    "#     ((3, 2), (1, 1)),\n",
    "#     ((4, 1), (2, 0)),\n",
    "#     ((4, -1), (2, 2)),\n",
    "#     ((5, 2), (-1, 1)),\n",
    "#     ((5, 0), (-1, -1)),\n",
    "#     ((6, 2), (0, 2)),\n",
    "#     ((6, 0), (0, -2)),\n",
    "#     ((7, 1), (-2, 1)),\n",
    "#     ((7, -1), (-2, -1)),\n",
    "#     ((8, 2), (-3, 0)),\n",
    "#     ((8, 0), (-3, 2)),\n",
    "#     ((9, 1), (-4, 1)),\n",
    "#     ((9, -1), (-4, -1)),\n",
    "#     ((10, 2), (-5, 0)),\n",
    "#     ((10, 0), (-5, 2)),\n",
    "#     ((11, 1), (-6, 1)),\n",
    "#     ((11, -1), (-6, -1)),\n",
    "#     ((12, 2), (-7, 0)),\n",
    "#     ((12, 0), (-7, 2))\n",
    "# ]\n",
    "data = [\n",
    "    ((3, ), (1, 1)),\n",
    "    ((4, 1), (2, 0)),\n",
    "    ((4, -1), (2, 2)),\n",
    "    ((5, 2), (-1, 1))]\n",
    "\n",
    "\n",
    "# Extract positive and negative labels\n",
    "positive_labels = [pos for pos, _ in data]\n",
    "negative_labels = [neg for _, neg in data]\n",
    "\n",
    "# Unpack positive and negative labels into x and y coordinates\n",
    "positive_x, positive_y = zip(*positive_labels)\n",
    "negative_x, negative_y = zip(*negative_labels)\n",
    "\n",
    "# Plot positive labels as green dots and negative labels as red dots\n",
    "plt.scatter(positive_x, positive_y, color='green', label='Positive')\n",
    "plt.scatter(negative_x, negative_y, color='red', label='Negative')\n",
    "\n",
    "# Add labels and legend\n",
    "plt.xlabel('X')\n",
    "plt.ylabel('Y')\n",
    "plt.title('Positive and Negative Labels')\n",
    "plt.legend()\n",
    "\n",
    "# Show plot\n",
    "plt.grid(True)\n",
    "plt.show()\n"
   ]
  },
  {
   "cell_type": "markdown",
   "metadata": {},
   "source": [
    "## from the graph we can see that (2,2,1) and (2,0,1) ,(3,2,1)  ara the support vectors"
   ]
  },
  {
   "cell_type": "code",
   "execution_count": 3,
   "metadata": {},
   "outputs": [],
   "source": [
    "s1 = (2, 2, 1) #negative\n",
    "s2 = (2, 0, 1) #negative\n",
    "s3 = (3, 2, 1) #positive"
   ]
  },
  {
   "cell_type": "code",
   "execution_count": null,
   "metadata": {},
   "outputs": [],
   "source": [
    "'''# Equations\n",
    "alpha_1 * s1[0] * s1[0] + alpha_2 * s1[0] * s2[0] + alpha_3 * s1[0] * s3[0] = -1\n",
    "alpha_1 * s2[1] * s1[1] + alpha_2 * s2[1] * s2[1] + alpha_3 * s2[1] * s3[1] = -1\n",
    "alpha_1 * s3[2] * s1[2] + alpha_2 * s3[2] * s2[2] + alpha_3 * s3[2] * s3[2] = 1\n",
    "'''"
   ]
  },
  {
   "cell_type": "markdown",
   "metadata": {},
   "source": [
    "## Equations\n",
    "## alpha_1 * s1[0] * s1[0] + alpha_2 * s1[0] * s2[0] + alpha_3 * s1[0] * s3[0] = -1\n",
    "## alpha_1 * s2[1] * s1[1] + alpha_2 * s2[1] * s2[1] + alpha_3 * s2[1] * s3[1] = -1\n",
    "## alpha_1 * s3[2] * s1[2] + alpha_2 * s3[2] * s2[2] + alpha_3 * s3[2] * s3[2] = 1\n"
   ]
  },
  {
   "cell_type": "markdown",
   "metadata": {},
   "source": [
    "## now we have to find the value of alpha_1,alpha_2,alpha_3"
   ]
  },
  {
   "cell_type": "markdown",
   "metadata": {},
   "source": [
    "# Cramer rule for finding value of alpha "
   ]
  },
  {
   "cell_type": "code",
   "execution_count": 12,
   "metadata": {},
   "outputs": [
    {
     "name": "stdout",
     "output_type": "stream",
     "text": [
      "Solution for the system of equations:\n",
      "alpha_1 = 2.0\n",
      "alpha_2 = 0.0\n",
      "alpha_3= -5.0\n"
     ]
    }
   ],
   "source": [
    "def determinant_2x2(matrix):\n",
    "    return matrix[0][0] * matrix[1][1] - matrix[0][1] * matrix[1][0]\n",
    "\n",
    "def determinant_3x3(matrix):\n",
    "    a, b, c = matrix[0]\n",
    "    d, e, f = matrix[1]\n",
    "    g, h, i = matrix[2]\n",
    "    return a * determinant_2x2([[e, f], [h, i]]) - b * determinant_2x2([[d, f], [g, i]]) + c * determinant_2x2([[d, e], [g, h]])\n",
    "\n",
    "def cramer_rule(matrix, b_vector):\n",
    "    det_matrix = determinant_3x3(matrix)\n",
    "    x = []\n",
    "    for i in range(3):\n",
    "        modified_matrix = [row[:] for row in matrix]\n",
    "        for j in range(3):\n",
    "            modified_matrix[j][i] = b_vector[j]\n",
    "        x.append(determinant_3x3(modified_matrix) / det_matrix)\n",
    "    return x\n",
    "\n",
    "# Example usage:\n",
    "matrix = [[2, 2, 1],\n",
    "          [2, 0, 1],\n",
    "          [3, 2, 1]]\n",
    "b_vector = [-1, -1, 1]\n",
    "\n",
    "solution = cramer_rule(matrix, b_vector)\n",
    "print(\"Solution for the system of equations:\")\n",
    "print(\"alpha_1 =\", solution[0])\n",
    "print(\"alpha_2 =\", solution[1])\n",
    "print(\"alpha_3=\", solution[2])\n"
   ]
  },
  {
   "cell_type": "markdown",
   "metadata": {},
   "source": [
    "## hyperplane"
   ]
  },
  {
   "cell_type": "markdown",
   "metadata": {},
   "source": [
    "### W = Σ αᵢ * sᵢ\n",
    "### y = W*x + b\n",
    "### W = 2 * (2, 2, 1) + 0 * (2, 0, 1) + -5* (3, 2, 1)\n",
    "\n"
   ]
  },
  {
   "cell_type": "markdown",
   "metadata": {},
   "source": []
  },
  {
   "cell_type": "code",
   "execution_count": 11,
   "metadata": {},
   "outputs": [
    {
     "name": "stdout",
     "output_type": "stream",
     "text": [
      "Result: [-11  -6  -3]\n"
     ]
    }
   ],
   "source": [
    "\n",
    "import numpy as np\n",
    "v1 = np.array([2, 2, 1])\n",
    "v2 = np.array([2, 0, 1])\n",
    "v3 = np.array([3, 2, 1])\n",
    "\n",
    "c1 = 2\n",
    "c2 = 0\n",
    "c3 = -5\n",
    "\n",
    "result = c1 * v1 + c2 * v2 + c3 * v3\n",
    "\n",
    "print(\"Result:\", result)\n",
    "\n"
   ]
  },
  {
   "cell_type": "markdown",
   "metadata": {},
   "source": [
    "### "
   ]
  },
  {
   "cell_type": "markdown",
   "metadata": {},
   "source": []
  },
  {
   "cell_type": "code",
   "execution_count": 6,
   "metadata": {},
   "outputs": [
    {
     "name": "stdout",
     "output_type": "stream",
     "text": [
      "W: 0.2727272727272727\n"
     ]
    }
   ],
   "source": [
    "# Given values\n",
    "\n"
   ]
  },
  {
   "cell_type": "markdown",
   "metadata": {},
   "source": []
  },
  {
   "cell_type": "code",
   "execution_count": 5,
   "metadata": {},
   "outputs": [
    {
     "ename": "NameError",
     "evalue": "name 'positive_x' is not defined",
     "output_type": "error",
     "traceback": [
      "\u001b[1;31m---------------------------------------------------------------------------\u001b[0m",
      "\u001b[1;31mNameError\u001b[0m                                 Traceback (most recent call last)",
      "Cell \u001b[1;32mIn[5], line 18\u001b[0m\n\u001b[0;32m     15\u001b[0m plt\u001b[38;5;241m.\u001b[39mplot(x_values, y_values, color\u001b[38;5;241m=\u001b[39m\u001b[38;5;124m'\u001b[39m\u001b[38;5;124mblue\u001b[39m\u001b[38;5;124m'\u001b[39m, label\u001b[38;5;241m=\u001b[39m\u001b[38;5;124m'\u001b[39m\u001b[38;5;124m-11x - 6y - 3 = 0\u001b[39m\u001b[38;5;124m'\u001b[39m)\n\u001b[0;32m     17\u001b[0m \u001b[38;5;66;03m# Plot positive labels as green dots and negative labels as red dots\u001b[39;00m\n\u001b[1;32m---> 18\u001b[0m plt\u001b[38;5;241m.\u001b[39mscatter(\u001b[43mpositive_x\u001b[49m, positive_y, color\u001b[38;5;241m=\u001b[39m\u001b[38;5;124m'\u001b[39m\u001b[38;5;124mgreen\u001b[39m\u001b[38;5;124m'\u001b[39m, label\u001b[38;5;241m=\u001b[39m\u001b[38;5;124m'\u001b[39m\u001b[38;5;124mPositive\u001b[39m\u001b[38;5;124m'\u001b[39m)\n\u001b[0;32m     19\u001b[0m plt\u001b[38;5;241m.\u001b[39mscatter(negative_x, negative_y, color\u001b[38;5;241m=\u001b[39m\u001b[38;5;124m'\u001b[39m\u001b[38;5;124mred\u001b[39m\u001b[38;5;124m'\u001b[39m, label\u001b[38;5;241m=\u001b[39m\u001b[38;5;124m'\u001b[39m\u001b[38;5;124mNegative\u001b[39m\u001b[38;5;124m'\u001b[39m)\n\u001b[0;32m     21\u001b[0m \u001b[38;5;66;03m# Add labels and legend\u001b[39;00m\n",
      "\u001b[1;31mNameError\u001b[0m: name 'positive_x' is not defined"
     ]
    },
    {
     "data": {
      "image/png": "[encoded data removed]",
      "text/plain": [
       "<Figure size 640x480 with 1 Axes>"
      ]
     },
     "metadata": {},
     "output_type": "display_data"
    }
   ],
   "source": [
    "import numpy as np\n",
    "import matplotlib.pyplot as plt\n",
    "\n",
    "# Define the equation of the line: -11x - 6y - 3 = 0\n",
    "def line_equation(x):\n",
    "    return (11/6) * x + 1/2\n",
    "\n",
    "# Generate x values for the line\n",
    "x_values = np.linspace(2, 12, 100)  # Adjust the range based on your data\n",
    "\n",
    "# Compute corresponding y values using the equation of the line\n",
    "y_values = line_equation(x_values)\n",
    "\n",
    "# Plot the line\n",
    "plt.plot(x_values, y_values, color='blue', label='-11x - 6y - 3 = 0')\n",
    "\n",
    "# Plot positive labels as green dots and negative labels as red dots\n",
    "plt.scatter(positive_x, positive_y, color='green', label='Positive')\n",
    "plt.scatter(negative_x, negative_y, color='red', label='Negative')\n",
    "\n",
    "# Add labels and legend\n",
    "plt.xlabel('X')\n",
    "plt.ylabel('Y')\n",
    "plt.title('Data Points and Line')\n",
    "plt.legend()\n",
    "\n",
    "# Show plot\n",
    "plt.grid(True)\n",
    "plt.show()\n"
   ]
  }
 ],
 "metadata": {
  "kernelspec": {
   "display_name": "Python 3",
   "language": "python",
   "name": "python3"
  },
  "language_info": {
   "codemirror_mode": {
    "name": "ipython",
    "version": 3
   },
   "file_extension": ".py",
   "mimetype": "text/x-python",
   "name": "python",
   "nbconvert_exporter": "python",
   "pygments_lexer": "ipython3",
   "version": "3.12.1"
  }
 },
 "nbformat": 4,
 "nbformat_minor": 2
}
